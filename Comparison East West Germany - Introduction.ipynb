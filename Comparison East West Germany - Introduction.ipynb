{
 "cells": [
  {
   "cell_type": "markdown",
   "metadata": {},
   "source": [
    "# Report: Comparison East vs West German Cities:"
   ]
  },
  {
   "cell_type": "markdown",
   "metadata": {},
   "source": [
    "#### For my final Assignment I plan on comparing two cities of each, east and west Germany. On the Side of east Germany standing are Dresden and Leipzig. Representing West Germany are Frankfurt and Nürnberg."
   ]
  },
  {
   "cell_type": "markdown",
   "metadata": {},
   "source": [
    "### 1. Interest:\n",
    "\n",
    "This topic could be of interest for anybody who has to choose between living in either of these cities, or potentially for the German Government.\n",
    "Since the reunion of Germany in 1990 the east seems to have struggled to catch up.\n",
    "This has a variety of reasons and shall not be discussed any further in this eploration, since it would be far to much to consider.\n",
    "Just Comparing the Cities on a few basic criteria could get very interesting though.\n",
    "\n",
    "##### Why would the Germany Government have an interest in such an eploration?\n",
    "Since the reunion Germans pay a Tax called \"the soli\" which is used to pay for repairing the decay that occured in east germany during the time germany was divided.\n",
    "There is a debate in Germany, wether this tax should be abolished or not.\n",
    "Exploring wether the cities of east Germany have catched up with the west may be one criteria of abolishing the tax."
   ]
  },
  {
   "cell_type": "markdown",
   "metadata": {},
   "source": [
    "### 2. Data:\n",
    "#### For this exploration we will need:\n",
    "- Coordinates of the 4 Cities: Dresden, Frankfurt, Leipzig and Nürnberg\n",
    "- Categories in which we will compare the cities: Culture, Education, Leisure and Food / Restaurants\n",
    "- Data for each category\n",
    "\n",
    "We can collect the needed data for each categorie and city from Foursquare.\n",
    "Since this is only a quantitative analysis and not considering the quality of each found venue, we do not need any premium requests from Foursquare thus we can go with a free account\n",
    "\n",
    "The sum of the Criteria is ment to be somewhat representativ of the living quality and diversity in each city.\n",
    "Especially the number of restaurants (with foreign cuisine) is ment to represent the diversity of the city, whereas the other three criteria encode for living quality and state of a city.\n",
    "Particularly from Culture and Education one might be able to conclude wether a city needs more funding or already has enough."
   ]
  },
  {
   "cell_type": "code",
   "execution_count": null,
   "metadata": {},
   "outputs": [],
   "source": []
  }
 ],
 "metadata": {
  "kernelspec": {
   "display_name": "Python 3",
   "language": "python",
   "name": "python3"
  },
  "language_info": {
   "codemirror_mode": {
    "name": "ipython",
    "version": 3
   },
   "file_extension": ".py",
   "mimetype": "text/x-python",
   "name": "python",
   "nbconvert_exporter": "python",
   "pygments_lexer": "ipython3",
   "version": "3.7.3"
  }
 },
 "nbformat": 4,
 "nbformat_minor": 2
}
